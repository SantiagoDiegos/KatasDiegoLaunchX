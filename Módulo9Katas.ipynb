{
  "cells": [
    {
      "cell_type": "markdown",
      "metadata": {},
      "source": [
        "# Ejercicio: Uso de funciones en Python"
      ]
    },
    {
      "cell_type": "markdown",
      "metadata": {},
      "source": [
        "### Ejercicio 1: Trabajar con argumentos en funciones\n",
        "\n",
        "Los argumentos requeridos en las funciones se utilizan cuando las funciones necesitan que esos argumentos funcionen correctamente. En este ejercicio, construirás un informe de combustible que requiere información de varias ubicaciones de combustible en todo el cohete.\n",
        "\n"
      ]
    },
    {
      "cell_type": "markdown",
      "metadata": {},
      "source": [
        "\n",
        "\n",
        "\n",
        "Comienza por crear una función que necesite tres lecturas de combustible y devuelva un informe:"
      ]
    },
    {
      "cell_type": "code",
      "execution_count": null,
      "metadata": {},
      "outputs": [],
      "source": [
        "# Función para leer 3 tanques de combustible y muestre el promedio\n",
        "def reporte(tanque1, tanque2, tanque3):\n",
        "    average = (tanque1 + tanque2 + tanque3)/3\n",
        "    return f\"\"\"Reporte Combustible:\n",
        "    Promedio: {average}%\n",
        "    tanque1: {tanque1}%\n",
        "    tanque2: {tanque2}%\n",
        "    tanque3: {tanque3}%    \n",
        "    \"\"\""
      ]
    },
    {
      "cell_type": "markdown",
      "metadata": {},
      "source": [
        "Ahora que hemos definido la función de informes, vamos a comprobarlo. Para esta misión, los tanques no están llenos:"
      ]
    },
    {
      "cell_type": "code",
      "execution_count": null,
      "metadata": {},
      "outputs": [],
      "source": [
        "\n",
        "# Llamamos a la función que genera el reporte print(funcion(tanque1, tanque2, tanque3))\n",
        "print(reporte(80, 70, 85))"
      ]
    },
    {
      "cell_type": "markdown",
      "metadata": {},
      "source": [
        "En lugar de simplemente crear el informe, la función también está calculando el promedio. Mejora la legibilidad extrayendo el cálculo promedio de la función en una nueva función para que el promedio se pueda hacer de forma independiente:"
      ]
    },
    {
      "cell_type": "code",
      "execution_count": null,
      "metadata": {},
      "outputs": [],
      "source": [
        "# Función promedio \n",
        "def promedio(values):\n",
        "    sum = 0\n",
        "    for i in values:\n",
        "        sum = sum + i\n",
        "    numValues = len(values) + 1\n",
        "    return sum/numValues    "
      ]
    },
    {
      "cell_type": "markdown",
      "metadata": {},
      "source": [
        "Ahora actualiza la función de informes para llamando a la nueva función del promedio:\n"
      ]
    },
    {
      "cell_type": "code",
      "execution_count": null,
      "metadata": {},
      "outputs": [],
      "source": [
        "# Actualiza la función\n",
        "def reporte(tanque1, tanque2, tanque3):\n",
        "    average = promedio([tanque1,tanque2, tanque3])\n",
        "    return f\"\"\"Reporte Combustible:\n",
        "    Promedio: {average}%\n",
        "    tanque1: {tanque1}%\n",
        "    tanque2: {tanque2}%\n",
        "    tanque3: {tanque3}%    \n",
        "    \"\"\"\n",
        "\n",
        "print(reporte(70,80,90))"
      ]
    },
    {
      "cell_type": "markdown",
      "metadata": {},
      "source": [
        "## Ejercicio 2: Trabajo con argumentos de palabra clave"
      ]
    },
    {
      "cell_type": "markdown",
      "metadata": {},
      "source": [
        "### Ejercicio : Trabajar con argumentos de palabras clave en funciones\n",
        "En este ejercicio, construirás un informe de cohete que requiere varias piezas de información, como el tiempo hasta el destino, el combustible a la izquierda y el nombre del destino. Comienza por crear una función que creará un informe preciso de la misión:"
      ]
    },
    {
      "cell_type": "code",
      "execution_count": 23,
      "metadata": {},
      "outputs": [
        {
          "name": "stdout",
          "output_type": "stream",
          "text": [
            "\n",
            "    Vuelo hacia: Luna\n",
            "    Tiempo de vuelo: 83 minutes\n",
            "    Combustible_restante: 530000 galones\n",
            "    \n"
          ]
        }
      ],
      "source": [
        "# Función con un informe preciso de la misión. Considera hora de prelanzamiento, tiempo de vuelo, destino, tanque externo y tanque interno\n",
        "def informe_mision(hora_lanzamiento, tiempo_vuelo, destino, tanque_externo, tanque_interno):\n",
        "    return f\"\"\"\n",
        "    Vuelo hacia: {destino}\n",
        "    Tiempo de vuelo: {hora_lanzamiento + tiempo_vuelo} minutes\n",
        "    Combustible_restante: {tanque_externo + tanque_interno} galones\n",
        "    \"\"\"\n",
        "\n",
        "print(informe_mision(14,69,\"Luna\",500000, 30000))"
      ]
    },
    {
      "cell_type": "markdown",
      "metadata": {},
      "source": [
        "La función es problemática porque no se puede adaptar para minutos adicionales o tanques adicionales de combustible. Hazlo más flexible permitiendo cualquier número de pasos basados en el tiempo y cualquier número de tanques. En lugar de usar `*args` y `**kwargs`, aprovecha el hecho de que puedes usar cualquier nombre que desees. Asegurate que la función sea más legible mediante el uso de nombres de variables que están asociados con las entradas, como `*minutes` y `**fuel_reservoirs`:"
      ]
    },
    {
      "cell_type": "code",
      "execution_count": 43,
      "metadata": {},
      "outputs": [
        {
          "name": "stdout",
          "output_type": "stream",
          "text": [
            "\n",
            "    Vuelo hacia: Luna\n",
            "    Tiempo de vuelo: 118 minutes\n",
            "    Combustible_restante: 530000 galones\n",
            "    \n"
          ]
        }
      ],
      "source": [
        "# Escribe tu nueva función de reporte considerando lo anterior\n",
        "def informe_mision(destino, *minutos , **reserva_combustible):\n",
        "    return f\"\"\"\n",
        "    Vuelo hacia: {destino}\n",
        "    Tiempo de vuelo: {sum(minutos)} minutes\n",
        "    Combustible_restante: {sum(reserva_combustible.values())} galones\n",
        "    \"\"\"\n",
        "\n",
        "print(informe_mision(\"Luna\", 28, 13, 77, tanque_externo=500000, tanque_interno=30000))"
      ]
    },
    {
      "cell_type": "markdown",
      "metadata": {},
      "source": [
        "Debido a que el combustible que queda en los tanques es específico de cada tanque, actualiza la función para usar el nombre de cada tanque en el informe:"
      ]
    },
    {
      "cell_type": "code",
      "execution_count": 42,
      "metadata": {},
      "outputs": [
        {
          "name": "stdout",
          "output_type": "stream",
          "text": [
            "\n",
            "    Vuelo hacia: Luna\n",
            "    Tiempo de vuelo: 109 minutes\n",
            "    Combustible_restante : 7161024 galones\n",
            "    tanque externo \t  650000 galones\n",
            " tanque interno \t  6511024 galones\n",
            " \n"
          ]
        }
      ],
      "source": [
        "# Escribe tu nueva función\n",
        "def informe_mision(destino, *minutos , **reserva_combustible):\n",
        "    reporte = f\"\"\"\n",
        "    Vuelo hacia: {destino}\n",
        "    Tiempo de vuelo: {sum(minutos)} minutes\n",
        "    Combustible_restante : {sum(reserva_combustible.values())} galones\n",
        "    \"\"\"\n",
        "    for nombre_tanque, galones in reserva_combustible.items():\n",
        "        reporte += f\"tanque {nombre_tanque} \\t  {galones} galones\\n \"\n",
        "    return reporte    \n",
        "\n",
        "print(informe_mision(\"Luna\", 20, 21, 68, externo=650000, interno=6511024))"
      ]
    }
  ],
  "metadata": {
    "interpreter": {
      "hash": "205095b8b86ea82a021a8fc2ffba2b3bc9f8d0be25999901963b225939f75778"
    },
    "kernelspec": {
      "display_name": "Python 3.8.10 64-bit ('tmp': conda)",
      "name": "python3"
    },
    "language_info": {
      "codemirror_mode": {
        "name": "ipython",
        "version": 3
      },
      "file_extension": ".py",
      "mimetype": "text/x-python",
      "name": "python",
      "nbconvert_exporter": "python",
      "pygments_lexer": "ipython3",
      "version": "3.8.9"
    },
    "nteract": {
      "version": "nteract-front-end@1.0.0"
    },
    "orig_nbformat": 4
  },
  "nbformat": 4,
  "nbformat_minor": 2
}
